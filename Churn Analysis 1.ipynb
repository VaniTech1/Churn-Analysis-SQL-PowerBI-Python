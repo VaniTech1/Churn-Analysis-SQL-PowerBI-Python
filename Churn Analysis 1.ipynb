{
 "cells": [
  {
   "cell_type": "code",
   "execution_count": 1,
   "id": "d6e3067d",
   "metadata": {},
   "outputs": [
    {
     "name": "stdout",
     "output_type": "stream",
     "text": [
      "  Customer_ID  Gender  Age Married           State  Number_of-Referrals  \\\n",
      "0   11098-MAD  Female   30     Yes  Madhya Pradesh                    0   \n",
      "1   11114-PUN    Male   51      No          Punjab                    5   \n",
      "2   11167-WES  Female   43     Yes     West Bengal                    3   \n",
      "3   11179-MAH    Male   35      No     Maharashtra                   10   \n",
      "4   11180-TAM    Male   75     Yes      Tamil Nadu                   12   \n",
      "\n",
      "   Tenure_in_Months Value_Deal Phone_Service Multiple_Lines  ...  \\\n",
      "0                31     Deal 1           Yes             No  ...   \n",
      "1                 9     Deal 5           Yes             No  ...   \n",
      "2                28     Deal 1           Yes            Yes  ...   \n",
      "3                12       None           Yes             No  ...   \n",
      "4                27     Deal 2           Yes             No  ...   \n",
      "\n",
      "    Payment_Method Monthly_Charge Total_Charges Total_Refunds  \\\n",
      "0  Bank Withdrawal      95.099998   6683.399902          0.00   \n",
      "1  Bank Withdrawal      49.150002    169.050003          0.00   \n",
      "2  Bank Withdrawal     116.050003   8297.500000         42.57   \n",
      "3      Credit Card      84.400002   5969.299805          0.00   \n",
      "4      Credit Card      72.599998   4084.350098          0.00   \n",
      "\n",
      "  Total_Extra_Data_Charges Total_Long_Distance_Charges Total_Revenue  \\\n",
      "0                        0                  631.719971   7315.120117   \n",
      "1                       10                  122.370003    301.420013   \n",
      "2                      110                 1872.979980  10237.910156   \n",
      "3                        0                  219.389999   6188.689941   \n",
      "4                      140                  332.079987   4556.430176   \n",
      "\n",
      "  Customer_Status Churn_Category                   Churn_Reason  \n",
      "0          Stayed         Others                         Others  \n",
      "1         Churned     Competitor  Competitor had better devices  \n",
      "2          Stayed         Others                         Others  \n",
      "3          Stayed         Others                         Others  \n",
      "4          Stayed         Others                         Others  \n",
      "\n",
      "[5 rows x 32 columns]\n"
     ]
    }
   ],
   "source": [
    "# Import Libraries and Load data\n",
    "import pandas as pd\n",
    "import numpy as np\n",
    "import matplotlib.pyplot as plt\n",
    "import seaborn as sns\n",
    "from sklearn.model_selection import train_test_split\n",
    "from sklearn.ensemble import RandomForestClassifier\n",
    "from sklearn.metrics import classification_report, confusion_matrix\n",
    "from sklearn.preprocessing import LabelEncoder\n",
    "import joblib\n",
    "\n",
    "# Define the path to the Excel file\n",
    "file_path = r\"C:\\Users\\revan\\Downloads\\Prediction Data.xlsx\"\n",
    "\n",
    "# Define the sheet name to read data from\n",
    "sheet_name = 'vw_ChurnData'\n",
    "\n",
    "# Read the data from the specified sheet into a pandas DataFrame\n",
    "data = pd.read_excel(file_path, sheet_name=sheet_name)\n",
    "\n",
    "# Clean column names to remove spaces or hidden characters\n",
    "data.columns = data.columns.str.strip()\n",
    "data.columns = data.columns.str.replace('\\ufeff', '', regex=False)\n",
    "data.columns = data.columns.str.replace('\\u200b', '', regex=False)\n",
    "data.columns = data.columns.str.replace('\\n', '', regex=False)\n",
    "\n",
    "# Display the first few rows of the fetched data\n",
    "print(data.head())"
   ]
  },
  {
   "cell_type": "code",
   "execution_count": 2,
   "id": "e28fa0d3",
   "metadata": {},
   "outputs": [],
   "source": [
    "# Drop columns that won't be used for prediction\n",
    "data = data.drop(['Customer_ID', 'Churn_Category', 'Churn_Reason'], axis=1, errors='ignore')\n",
    "\n",
    "# List of columns to be label encoded\n",
    "columns_to_encode = [\n",
    "    'Gender', 'Married', 'State', 'Value_Deal', 'Phone_Service', 'Multiple_Lines',\n",
    "    'Internet_Service', 'Internet_Type', 'Online_Security', 'Online_Backup',\n",
    "    'Device_Protection_Plan', 'Premium_Support', 'Streaming_TV', 'Streaming_Movies',\n",
    "    'Streaming_Music', 'Unlimited_Data', 'Contract', 'Paperless_Billing',\n",
    "    'Payment_Method'\n",
    "]\n",
    "\n",
    "# Encode categorical variables\n",
    "label_encoders = {}\n",
    "for column in columns_to_encode:\n",
    "    if column in data.columns:\n",
    "        label_encoders[column] = LabelEncoder()\n",
    "        data[column] = label_encoders[column].fit_transform(data[column].astype(str))\n",
    "    else:\n",
    "        print(f\"Column not found and skipped: {column}\")\n",
    "\n",
    "# Encode the target variable 'Customer_Status'\n",
    "if 'Customer_Status' in data.columns:\n",
    "    data['Customer_Status'] = data['Customer_Status'].astype(str).map({'Stayed': 0, 'Churned': 1})\n",
    "else:\n",
    "    print(\"Customer_Status column not found\")\n",
    "\n",
    "# Split data into features and target\n",
    "X = data.drop('Customer_Status', axis=1)\n",
    "y = data['Customer_Status']\n",
    "\n",
    "# Split into training and testing sets\n",
    "X_train, X_test, y_train, y_test = train_test_split(X, y, test_size=0.2, random_state=42)\n"
   ]
  },
  {
   "cell_type": "code",
   "execution_count": 3,
   "id": "2f8228fd",
   "metadata": {},
   "outputs": [
    {
     "data": {
      "text/plain": [
       "RandomForestClassifier(random_state=42)"
      ]
     },
     "execution_count": 3,
     "metadata": {},
     "output_type": "execute_result"
    }
   ],
   "source": [
    "# Initialize the Random Forest Classifier\n",
    "rf_model = RandomForestClassifier(n_estimators=100, random_state=42)\n",
    "\n",
    "# Train the model\n",
    "rf_model.fit(X_train, y_train)"
   ]
  },
  {
   "cell_type": "code",
   "execution_count": 4,
   "id": "3cf0ff41",
   "metadata": {},
   "outputs": [
    {
     "name": "stdout",
     "output_type": "stream",
     "text": [
      "Confusion Matrix:\n",
      "[[141   6]\n",
      " [ 22  31]]\n",
      "\n",
      "Classification Report:\n",
      "              precision    recall  f1-score   support\n",
      "\n",
      "           0       0.87      0.96      0.91       147\n",
      "           1       0.84      0.58      0.69        53\n",
      "\n",
      "    accuracy                           0.86       200\n",
      "   macro avg       0.85      0.77      0.80       200\n",
      "weighted avg       0.86      0.86      0.85       200\n",
      "\n"
     ]
    },
    {
     "data": {
      "image/png": "[encoded data removed]",
      "text/plain": [
       "<Figure size 1080x432 with 1 Axes>"
      ]
     },
     "metadata": {
      "needs_background": "light"
     },
     "output_type": "display_data"
    }
   ],
   "source": [
    "#Evaluate Model\n",
    "# Make predictions\n",
    "y_pred = rf_model.predict(X_test)\n",
    " \n",
    "# Evaluate the model\n",
    "print(\"Confusion Matrix:\")\n",
    "print(confusion_matrix(y_test, y_pred))\n",
    "print(\"\\nClassification Report:\")\n",
    "print(classification_report(y_test, y_pred))\n",
    "\n",
    "# Feature Selection using Feature Importance\n",
    "importances = rf_model.feature_importances_\n",
    "indices = np.argsort(importances)[::-1]\n",
    "\n",
    "# Plot the feature importances\n",
    "plt.figure(figsize=(15, 6))\n",
    "sns.barplot(x=importances[indices], y=X.columns[indices])\n",
    "plt.title('Feature Importances')\n",
    "plt.xlabel('Relative Importance')\n",
    "plt.ylabel('Feature Names')\n",
    "plt.show()"
   ]
  },
  {
   "cell_type": "code",
   "execution_count": 5,
   "id": "c5b0935d",
   "metadata": {},
   "outputs": [
    {
     "name": "stdout",
     "output_type": "stream",
     "text": [
      "  Customer_ID  Gender  Age Married        State  Number_of-Referrals  \\\n",
      "0   11751-TAM  Female   18      No   Tamil Nadu                    5   \n",
      "1   12056-WES    Male   27      No  West Bengal                    2   \n",
      "2   12136-RAJ  Female   25     Yes    Rajasthan                    2   \n",
      "3   12257-ASS  Female   39      No        Assam                    9   \n",
      "4   12340-DEL  Female   51     Yes        Delhi                    0   \n",
      "\n",
      "   Tenure_in_Months Value_Deal Phone_Service Multiple_Lines  ...  \\\n",
      "0                 7     Deal 5            No             No  ...   \n",
      "1                20       None           Yes             No  ...   \n",
      "2                35       None           Yes             No  ...   \n",
      "3                 1       None           Yes             No  ...   \n",
      "4                10       None           Yes             No  ...   \n",
      "\n",
      "    Payment_Method Monthly_Charge Total_Charges Total_Refunds  \\\n",
      "0     Mailed Check      24.299999     38.450001           0.0   \n",
      "1  Bank Withdrawal      90.400002    268.450012           0.0   \n",
      "2  Bank Withdrawal      19.900000     19.900000           0.0   \n",
      "3      Credit Card      19.549999     19.549999           0.0   \n",
      "4      Credit Card      62.799999     62.799999           0.0   \n",
      "\n",
      "  Total_Extra_Data_Charges Total_Long_Distance_Charges Total_Revenue  \\\n",
      "0                        0                    0.000000     38.450001   \n",
      "1                        0                   94.440002    362.890015   \n",
      "2                        0                   11.830000     31.730000   \n",
      "3                        0                   10.200000     29.750000   \n",
      "4                        0                   42.189999    104.989998   \n",
      "\n",
      "  Customer_Status Churn_Category Churn_Reason  \n",
      "0          Joined         Others       Others  \n",
      "1          Joined         Others       Others  \n",
      "2          Joined         Others       Others  \n",
      "3          Joined         Others       Others  \n",
      "4          Joined         Others       Others  \n",
      "\n",
      "[5 rows x 32 columns]\n"
     ]
    }
   ],
   "source": [
    "import pandas as pd\n",
    "from openpyxl import load_workbook\n",
    "\n",
    "# Define the path to the Joiner Data Excel file\n",
    "file_path = r\"C:\\Users\\revan\\Downloads\\Prediction Data.xlsx\"\n",
    "\n",
    "# Define the sheet name to read data from\n",
    "sheet_name = 'vw_JoinData'\n",
    "\n",
    "# Read the data from the specified sheet into a pandas DataFrame\n",
    "new_data = pd.read_excel(file_path, sheet_name=sheet_name)\n",
    "\n",
    "# Display the first few rows of the fetched data\n",
    "print(new_data.head())\n",
    "\n",
    "# Retain the original DataFrame to preserve unencoded columns\n",
    "original_data = new_data.copy()\n",
    "\n",
    "# Retain the Customer_ID column\n",
    "customer_ids = new_data['Customer_ID']\n",
    "\n",
    "# Drop columns that won't be used for prediction in the encoded DataFrame\n",
    "new_data = new_data.drop(['Customer_ID', 'Customer_Status', 'Churn_Category', 'Churn_Reason'], axis=1, errors='ignore')\n",
    "\n",
    "# Encode categorical variables using the saved label encoders\n",
    "for column in new_data.select_dtypes(include=['object']).columns:\n",
    "    if column in label_encoders:\n",
    "        new_data[column] = label_encoders[column].transform(new_data[column])\n",
    "    else:\n",
    "        print(f\"Encoder not found for column: {column}\")\n",
    "\n",
    "# Make predictions\n",
    "new_predictions = rf_model.predict(new_data)\n",
    "\n",
    "# Add predictions to the original DataFrame\n",
    "original_data['Customer_Status_Predicted'] = new_predictions\n",
    "\n",
    "# Filter the DataFrame to include only records predicted as \"Churned\"\n",
    "original_data = original_data[original_data['Customer_Status_Predicted'] == 1]\n",
    "\n",
    "# Save the results to a new sheet in the same Excel file\n",
    "with pd.ExcelWriter(file_path, engine='openpyxl', mode='a', if_sheet_exists='replace') as writer:\n",
    "    original_data.to_excel(writer, sheet_name='Churn_Predictions', index=False)\n"
   ]
  },
  {
   "cell_type": "code",
   "execution_count": null,
   "id": "2e917944",
   "metadata": {},
   "outputs": [],
   "source": []
  }
 ],
 "metadata": {
  "kernelspec": {
   "display_name": "Python 3 (ipykernel)",
   "language": "python",
   "name": "python3"
  },
  "language_info": {
   "codemirror_mode": {
    "name": "ipython",
    "version": 3
   },
   "file_extension": ".py",
   "mimetype": "text/x-python",
   "name": "python",
   "nbconvert_exporter": "python",
   "pygments_lexer": "ipython3",
   "version": "3.9.12"
  }
 },
 "nbformat": 4,
 "nbformat_minor": 5
}
